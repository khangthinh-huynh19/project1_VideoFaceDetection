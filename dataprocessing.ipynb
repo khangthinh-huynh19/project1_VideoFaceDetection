{
 "cells": [
  {
   "cell_type": "code",
   "execution_count": 2,
   "metadata": {},
   "outputs": [],
   "source": [
    "import os\n",
    "import cv2 as cv\n",
    "path='./dataset/cropped_image'\n",
    "face_detect=cv.CascadeClassifier(cv.data.haarcascades + \"haarcascade_frontalface_default.xml\")\n",
    "for entry in os.scandir(path):\n",
    "    for img in os.scandir(entry.path):\n",
    "        raw_img=cv.imread(img.path)\n",
    "        gray=cv.cvtColor(raw_img,cv.COLOR_BGR2GRAY)\n",
    "        face=face_detect.detectMultiScale(gray,1.3,1)\n",
    "        if len(face)==0:\n",
    "            os.remove(img.path)\n",
    "        else:\n",
    "            for (x,y,w,h) in face:\n",
    "                cropped_image=raw_img[x:x+w,y:y+h]\n",
    "                cv.imwrite(img.path,cropped_image)"
   ]
  }
 ],
 "metadata": {
  "interpreter": {
   "hash": "b04f92276c7f1f1d3a26077c5c09795688850f60751ffad3d76423a408f11422"
  },
  "kernelspec": {
   "display_name": "Python 3.9.7 64-bit",
   "language": "python",
   "name": "python3"
  },
  "language_info": {
   "codemirror_mode": {
    "name": "ipython",
    "version": 3
   },
   "file_extension": ".py",
   "mimetype": "text/x-python",
   "name": "python",
   "nbconvert_exporter": "python",
   "pygments_lexer": "ipython3",
   "version": "3.9.7"
  },
  "orig_nbformat": 4
 },
 "nbformat": 4,
 "nbformat_minor": 2
}
